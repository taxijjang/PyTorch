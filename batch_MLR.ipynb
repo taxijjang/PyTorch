{
 "cells": [
  {
   "cell_type": "code",
   "execution_count": 1,
   "metadata": {},
   "outputs": [],
   "source": [
    "import torch\n",
    "from torch.utils.data import DataLoader, Dataset\n",
    "import torch.optim as optim\n",
    "import torch.nn as nn\n",
    "import torch.nn.functional as F"
   ]
  },
  {
   "cell_type": "code",
   "execution_count": 2,
   "metadata": {},
   "outputs": [],
   "source": [
    "class CustomDataset(Dataset):\n",
    "    def __init__(self):\n",
    "        self.x_data = [[73, 80, 75],\n",
    "                  [93, 88, 93],\n",
    "                  [89, 91, 90],\n",
    "                  [96, 98, 100],\n",
    "                  [73, 66, 70]]\n",
    "        self.y_data = [[152], [185], [180], [196], [142]]\n",
    "    \n",
    "    #데이터셋의 총 데이터 수\n",
    "    def __len__(self):\n",
    "        return len(self.x_data)\n",
    "    \n",
    "    #어떠한 인덱스 Idx를 받았을때\n",
    "    #그에 상응하는 입출력 데이터 반환\n",
    "    def __getitem__(self,idx):\n",
    "        x = torch.FloatTensor(self.x_data[idx])\n",
    "        y = torch.FloatTensor(self.y_data[idx])\n",
    "        \n",
    "        return x,y\n",
    "    \n"
   ]
  },
  {
   "cell_type": "code",
   "execution_count": 3,
   "metadata": {},
   "outputs": [],
   "source": [
    "class MultivariateLinearRegressionModel(nn.Module):\n",
    "    def __init__(self):\n",
    "        super().__init__()\n",
    "        self.linear = nn.Linear(3,1)\n",
    "        \n",
    "    def forward(self,x):\n",
    "        return self.linear(x)"
   ]
  },
  {
   "cell_type": "code",
   "execution_count": 4,
   "metadata": {},
   "outputs": [],
   "source": [
    "dataset = CustomDataset()\n",
    "dataloader = DataLoader(\n",
    "    dataset,\n",
    "    \n",
    "    #각 minibatch의 크기 (통상적으로 2의 제곱수이용 )\n",
    "    batch_size = 2,\n",
    "    \n",
    "    #Epoch 마다 데이터셋을 섞어서, 데이터가 학습되는 순서를 바꾼다.\n",
    "    #데이터셋의 순서를 정하지 않게 해줌\n",
    "    shuffle =True\n",
    ")"
   ]
  },
  {
   "cell_type": "code",
   "execution_count": 6,
   "metadata": {},
   "outputs": [],
   "source": [
    "model = MultivariateLinearRegressionModel()\n",
    "optimizer = optim.SGD(model.parameters(), lr = 1e-5)"
   ]
  },
  {
   "cell_type": "code",
   "execution_count": 7,
   "metadata": {},
   "outputs": [],
   "source": [
    "nb_epoch = 20"
   ]
  },
  {
   "cell_type": "code",
   "execution_count": 13,
   "metadata": {},
   "outputs": [
    {
     "name": "stdout",
     "output_type": "stream",
     "text": [
      "   0/20    1/3  8.537636\n",
      "   0/20    2/3  16.854000\n",
      "   0/20    3/3  4.389414\n",
      "   1/20    1/3  5.160650\n",
      "   1/20    2/3  13.077752\n",
      "   1/20    3/3  21.206266\n",
      "   2/20    1/3  7.536566\n",
      "   2/20    2/3  8.963033\n",
      "   2/20    3/3  23.009571\n",
      "   3/20    1/3  22.046694\n",
      "   3/20    2/3  16.293541\n",
      "   3/20    3/3  0.381128\n",
      "   4/20    1/3  4.832544\n",
      "   4/20    2/3  15.414486\n",
      "   4/20    3/3  17.239170\n",
      "   5/20    1/3  14.914989\n",
      "   5/20    2/3  6.287377\n",
      "   5/20    3/3  20.984524\n",
      "   6/20    1/3  14.756947\n",
      "   6/20    2/3  10.322397\n",
      "   6/20    3/3  4.818392\n",
      "   7/20    1/3  10.616879\n",
      "   7/20    2/3  13.534160\n",
      "   7/20    3/3  4.547913\n",
      "   8/20    1/3  9.297513\n",
      "   8/20    2/3  10.720281\n",
      "   8/20    3/3  17.897383\n",
      "   9/20    1/3  11.517206\n",
      "   9/20    2/3  11.011133\n",
      "   9/20    3/3  16.864271\n",
      "  10/20    1/3  14.287015\n",
      "  10/20    2/3  8.453158\n",
      "  10/20    3/3  16.410559\n",
      "  11/20    1/3  15.605547\n",
      "  11/20    2/3  12.376900\n",
      "  11/20    3/3  1.275498\n",
      "  12/20    1/3  0.802131\n",
      "  12/20    2/3  23.828991\n",
      "  12/20    3/3  21.780247\n",
      "  13/20    1/3  12.857555\n",
      "  13/20    2/3  7.365290\n",
      "  13/20    3/3  17.545254\n",
      "  14/20    1/3  0.183067\n",
      "  14/20    2/3  15.467459\n",
      "  14/20    3/3  23.253656\n",
      "  15/20    1/3  8.649612\n",
      "  15/20    2/3  15.838350\n",
      "  15/20    3/3  16.594410\n",
      "  16/20    1/3  11.860320\n",
      "  16/20    2/3  16.333649\n",
      "  16/20    3/3  3.298611\n",
      "  17/20    1/3  14.342715\n",
      "  17/20    2/3  11.607462\n",
      "  17/20    3/3  1.702090\n",
      "  18/20    1/3  8.594863\n",
      "  18/20    2/3  10.470953\n",
      "  18/20    3/3  17.818071\n",
      "  19/20    1/3  13.554476\n",
      "  19/20    2/3  13.358524\n",
      "  19/20    3/3  3.262462\n",
      "  20/20    1/3  16.862944\n",
      "  20/20    2/3  9.151586\n",
      "  20/20    3/3  1.769230\n"
     ]
    }
   ],
   "source": [
    "for epoch in range(nb_epoch+1):\n",
    "    for batch_idx, samples in enumerate(dataloader):\n",
    "        x_train , y_train = samples\n",
    "        \n",
    "        p = model(x_train)\n",
    "        cost = F.mse_loss(p,y_train)\n",
    "        \n",
    "        optimizer.zero_grad()\n",
    "        cost.backward()\n",
    "        optimizer.step()\n",
    "        \n",
    "        print('{:4d}/{} {:4d}/{}  {:.6f}'.format(\n",
    "            epoch, nb_epoch, batch_idx+1, len(dataloader),cost.item()))"
   ]
  },
  {
   "cell_type": "code",
   "execution_count": null,
   "metadata": {},
   "outputs": [],
   "source": []
  }
 ],
 "metadata": {
  "kernelspec": {
   "display_name": "PyTorch",
   "language": "python",
   "name": "pytorch"
  },
  "language_info": {
   "codemirror_mode": {
    "name": "ipython",
    "version": 3
   },
   "file_extension": ".py",
   "mimetype": "text/x-python",
   "name": "python",
   "nbconvert_exporter": "python",
   "pygments_lexer": "ipython3",
   "version": "3.6.8"
  }
 },
 "nbformat": 4,
 "nbformat_minor": 2
}
