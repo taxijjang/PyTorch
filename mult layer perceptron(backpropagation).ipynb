{
 "cells": [
  {
   "cell_type": "code",
   "execution_count": 1,
   "metadata": {},
   "outputs": [],
   "source": [
    "import torch\n",
    "import torch.nn as nn\n",
    "import torch.optim as optim"
   ]
  },
  {
   "cell_type": "code",
   "execution_count": 2,
   "metadata": {},
   "outputs": [],
   "source": [
    "x_data = torch.FloatTensor([[0,0],[0,1],[1,0],[1,1]])\n",
    "y_data = torch.FloatTensor([[0],[1],[1],[0]])"
   ]
  },
  {
   "cell_type": "code",
   "execution_count": 3,
   "metadata": {},
   "outputs": [],
   "source": [
    "l1 = torch.nn.Linear(2,2,bias=True)\n",
    "l2 = torch.nn.Linear(2,1,bias=True)"
   ]
  },
  {
   "cell_type": "code",
   "execution_count": 4,
   "metadata": {},
   "outputs": [],
   "source": [
    "sigmoid = torch.nn.Sigmoid()"
   ]
  },
  {
   "cell_type": "code",
   "execution_count": 5,
   "metadata": {},
   "outputs": [],
   "source": [
    "model = torch.nn.Sequential(l1,sigmoid,l2,sigmoid)"
   ]
  },
  {
   "cell_type": "code",
   "execution_count": 6,
   "metadata": {},
   "outputs": [],
   "source": [
    "criterion = torch.nn.BCELoss()\n",
    "optimizer = torch.optim.SGD(model.parameters(), lr=1)"
   ]
  },
  {
   "cell_type": "code",
   "execution_count": 7,
   "metadata": {},
   "outputs": [],
   "source": [
    "nb_epoch= 10000"
   ]
  },
  {
   "cell_type": "code",
   "execution_count": 8,
   "metadata": {},
   "outputs": [
    {
     "name": "stdout",
     "output_type": "stream",
     "text": [
      "Cost : 0.696621\n",
      "Cost : 0.552220\n",
      "Cost : 0.012079\n",
      "Cost : 0.005364\n",
      "Cost : 0.003425\n",
      "Cost : 0.002510\n",
      "Cost : 0.001978\n",
      "Cost : 0.001632\n",
      "Cost : 0.001388\n",
      "Cost : 0.001207\n",
      "Cost : 0.001068\n"
     ]
    }
   ],
   "source": [
    "for epoch in range (nb_epoch+1):\n",
    "    x = model(x_data)\n",
    "    \n",
    "    cost = criterion(x,y_data)\n",
    "    optimizer.zero_grad()\n",
    "    cost.backward()\n",
    "    optimizer.step()\n",
    "    \n",
    "    if(epoch % 1000 == 0):\n",
    "        print('Cost : {:4f}'.format(cost.item()))"
   ]
  },
  {
   "cell_type": "markdown",
   "metadata": {},
   "source": [
    "기존 perceptron으로는 XOR을 구할 수 없었지만 backpropagation을 이용(체인룰)을 이용하여 XOR을 구할 수 있다 cost값이 점차 줄어들고 있음을 알 수 있다."
   ]
  }
 ],
 "metadata": {
  "kernelspec": {
   "display_name": "PyTorch",
   "language": "python",
   "name": "pytorch"
  },
  "language_info": {
   "codemirror_mode": {
    "name": "ipython",
    "version": 3
   },
   "file_extension": ".py",
   "mimetype": "text/x-python",
   "name": "python",
   "nbconvert_exporter": "python",
   "pygments_lexer": "ipython3",
   "version": "3.6.8"
  }
 },
 "nbformat": 4,
 "nbformat_minor": 2
}
