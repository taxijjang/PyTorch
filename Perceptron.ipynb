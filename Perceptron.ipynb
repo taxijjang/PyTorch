{
 "cells": [
  {
   "cell_type": "code",
   "execution_count": 1,
   "metadata": {},
   "outputs": [],
   "source": [
    "import torch\n",
    "import torch.nn as nn\n",
    "import torch.nn.functional as F\n",
    "import torch.optim as optim"
   ]
  },
  {
   "cell_type": "code",
   "execution_count": 2,
   "metadata": {},
   "outputs": [
    {
     "data": {
      "text/plain": [
       "<torch._C.Generator at 0x1998e222c90>"
      ]
     },
     "execution_count": 2,
     "metadata": {},
     "output_type": "execute_result"
    }
   ],
   "source": [
    "torch.manual_seed(1)"
   ]
  },
  {
   "cell_type": "code",
   "execution_count": 3,
   "metadata": {},
   "outputs": [],
   "source": [
    "# AND , OR , XOR\n",
    "X1 = torch.FloatTensor([[0,0],[0,1],[1,0],[1,1]])\n",
    "X2 = torch.FloatTensor([[0,0],[0,1],[1,0],[1,1]])\n",
    "X3 = torch.FloatTensor([[0,0],[0,1],[1,0],[1,1]])\n",
    "\n",
    "Y1 = torch.FloatTensor([[0],[0],[0],[1]])\n",
    "Y2 = torch.FloatTensor([[0],[1],[1],[1]])\n",
    "Y3 = torch.FloatTensor([[0],[1],[1],[0]])"
   ]
  },
  {
   "cell_type": "code",
   "execution_count": 4,
   "metadata": {},
   "outputs": [],
   "source": [
    "class LRM(nn.Module):\n",
    "    def __init__(self):\n",
    "        super().__init__()\n",
    "        self.linear = nn.Linear(2,1)\n",
    "    \n",
    "    def forward(self,x):\n",
    "        x_pred = F.sigmoid(self.linear(x))\n",
    "        return x_pred"
   ]
  },
  {
   "cell_type": "code",
   "execution_count": 5,
   "metadata": {},
   "outputs": [],
   "source": [
    "l1 = LRM()\n",
    "l2 = LRM()\n",
    "l3 = LRM()"
   ]
  },
  {
   "cell_type": "code",
   "execution_count": 6,
   "metadata": {},
   "outputs": [],
   "source": [
    "def train(model,x_train, y_train):\n",
    "    nb_epoch = 10000\n",
    "    optimizer = torch.optim.SGD(model.parameters(), lr =0.1)\n",
    "    criterion = torch.nn.BCELoss(size_average=True)\n",
    "    for epoch in range(nb_epoch+1):\n",
    "        x = model(x_train)\n",
    "        cost = criterion(x,y_train)\n",
    "        \n",
    "        optimizer.zero_grad()\n",
    "        cost.backward()\n",
    "        optimizer.step()\n",
    "        \n",
    "        if(epoch % 1000 == 0):\n",
    "            print('Cost : {:4f}'.format(cost.item()))"
   ]
  },
  {
   "cell_type": "code",
   "execution_count": 10,
   "metadata": {},
   "outputs": [
    {
     "name": "stdout",
     "output_type": "stream",
     "text": [
      "Cost : 0.017428\n",
      "Cost : 0.015840\n",
      "Cost : 0.014514\n",
      "Cost : 0.013392\n",
      "Cost : 0.012430\n",
      "Cost : 0.011595\n",
      "Cost : 0.010865\n",
      "Cost : 0.010221\n",
      "Cost : 0.009649\n",
      "Cost : 0.009137\n",
      "Cost : 0.008676\n"
     ]
    }
   ],
   "source": [
    "# AND\n",
    "train(l1,X1,Y1)"
   ]
  },
  {
   "cell_type": "code",
   "execution_count": 8,
   "metadata": {},
   "outputs": [
    {
     "name": "stdout",
     "output_type": "stream",
     "text": [
      "Cost : 0.695683\n",
      "Cost : 0.092575\n",
      "Cost : 0.047892\n",
      "Cost : 0.031907\n",
      "Cost : 0.023820\n",
      "Cost : 0.018966\n",
      "Cost : 0.015739\n",
      "Cost : 0.013443\n",
      "Cost : 0.011726\n",
      "Cost : 0.010395\n",
      "Cost : 0.009334\n"
     ]
    }
   ],
   "source": [
    "# OR\n",
    "train(l2,X2,Y2)"
   ]
  },
  {
   "cell_type": "code",
   "execution_count": 9,
   "metadata": {},
   "outputs": [
    {
     "name": "stdout",
     "output_type": "stream",
     "text": [
      "Cost : 0.703059\n",
      "Cost : 0.693147\n",
      "Cost : 0.693147\n",
      "Cost : 0.693147\n",
      "Cost : 0.693147\n",
      "Cost : 0.693147\n",
      "Cost : 0.693147\n",
      "Cost : 0.693147\n",
      "Cost : 0.693147\n",
      "Cost : 0.693147\n",
      "Cost : 0.693147\n"
     ]
    }
   ],
   "source": [
    "# XOR\n",
    "train(l3,X3,Y3)"
   ]
  },
  {
   "cell_type": "markdown",
   "metadata": {},
   "source": [
    "퍼셉트론을 이용하여 AND , OR , XOR 을 학습 해보았다. AND와 OR은 cost값이 점차 줄어가며 학습이 되는것을 볼 수 있으나 XOR은 처음 몇번만 cost값이 줄어가지만 몇번 이후에는 cost값이 줄어들지않아 학습이 되고 있지 않는다는것을 볼 수 있다."
   ]
  },
  {
   "cell_type": "code",
   "execution_count": null,
   "metadata": {},
   "outputs": [],
   "source": []
  }
 ],
 "metadata": {
  "kernelspec": {
   "display_name": "PyTorch",
   "language": "python",
   "name": "pytorch"
  },
  "language_info": {
   "codemirror_mode": {
    "name": "ipython",
    "version": 3
   },
   "file_extension": ".py",
   "mimetype": "text/x-python",
   "name": "python",
   "nbconvert_exporter": "python",
   "pygments_lexer": "ipython3",
   "version": "3.6.8"
  }
 },
 "nbformat": 4,
 "nbformat_minor": 2
}
