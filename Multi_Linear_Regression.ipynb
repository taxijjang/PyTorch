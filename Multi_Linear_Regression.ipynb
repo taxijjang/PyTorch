{
 "cells": [
  {
   "cell_type": "code",
   "execution_count": 1,
   "metadata": {},
   "outputs": [],
   "source": [
    "import torch\n",
    "import torch.optim as optim\n",
    "import torch.nn as nn\n",
    "import torch.nn.functional as F"
   ]
  },
  {
   "cell_type": "code",
   "execution_count": 2,
   "metadata": {},
   "outputs": [],
   "source": [
    "class MultivariateLinearRegressionModel(nn.Module):\n",
    "    def __init__(self):\n",
    "        super().__init__()\n",
    "        self.linear = nn.Linear(3,1)\n",
    "    \n",
    "    def forward(self,x):\n",
    "        return self.linear(x)"
   ]
  },
  {
   "cell_type": "code",
   "execution_count": 3,
   "metadata": {},
   "outputs": [],
   "source": [
    "x = torch.FloatTensor([[73, 80, 75],\n",
    "                             [93, 88, 93],\n",
    "                             [89, 91, 90],\n",
    "                             [96, 98, 100],\n",
    "                             [73, 66, 70]])\n",
    "y = torch.FloatTensor([[152], [185], [180], [196], [142]])"
   ]
  },
  {
   "cell_type": "code",
   "execution_count": 4,
   "metadata": {},
   "outputs": [
    {
     "name": "stdout",
     "output_type": "stream",
     "text": [
      "torch.Size([5, 3])\n",
      "torch.Size([5, 1])\n"
     ]
    }
   ],
   "source": [
    "print(x.shape)\n",
    "print(y.shape)"
   ]
  },
  {
   "cell_type": "code",
   "execution_count": 5,
   "metadata": {},
   "outputs": [],
   "source": [
    "W = torch.zeros((3,1), requires_grad = True)\n",
    "b = torch.zeros(1, requires_grad= True)"
   ]
  },
  {
   "cell_type": "code",
   "execution_count": 6,
   "metadata": {},
   "outputs": [],
   "source": [
    "nb_e = 100\n",
    "model = MultivariateLinearRegressionModel()"
   ]
  },
  {
   "cell_type": "code",
   "execution_count": 7,
   "metadata": {},
   "outputs": [],
   "source": [
    "optimizer = optim.SGD(model.parameters(), lr = 0.0015)"
   ]
  },
  {
   "cell_type": "code",
   "execution_count": 8,
   "metadata": {},
   "outputs": [
    {
     "name": "stdout",
     "output_type": "stream",
     "text": [
      "   0/100 41336.375000\n",
      "   1/100 174720336.000000\n",
      "   2/100 738659270656.000000\n",
      "   3/100 3122805222670336.000000\n",
      "   4/100 13202180261845925888.000000\n",
      "   5/100 55814420729494121742336.000000\n",
      "   6/100 235964773445812702377148416.000000\n",
      "   7/100 997580198903780087754867605504.000000\n",
      "   8/100 4217436718243150478716353315340288.000000\n",
      "   9/100 17829917678655120706606617012155187200.000000\n",
      "  10/100 inf\n",
      "  11/100 inf\n",
      "  12/100 inf\n",
      "  13/100 inf\n",
      "  14/100 inf\n",
      "  15/100 inf\n",
      "  16/100 inf\n",
      "  17/100 inf\n",
      "  18/100 inf\n",
      "  19/100 inf\n",
      "  20/100 inf\n",
      "  21/100 nan\n",
      "  22/100 nan\n",
      "  23/100 nan\n",
      "  24/100 nan\n",
      "  25/100 nan\n",
      "  26/100 nan\n",
      "  27/100 nan\n",
      "  28/100 nan\n",
      "  29/100 nan\n",
      "  30/100 nan\n",
      "  31/100 nan\n",
      "  32/100 nan\n",
      "  33/100 nan\n",
      "  34/100 nan\n",
      "  35/100 nan\n",
      "  36/100 nan\n",
      "  37/100 nan\n",
      "  38/100 nan\n",
      "  39/100 nan\n",
      "  40/100 nan\n",
      "  41/100 nan\n",
      "  42/100 nan\n",
      "  43/100 nan\n",
      "  44/100 nan\n",
      "  45/100 nan\n",
      "  46/100 nan\n",
      "  47/100 nan\n",
      "  48/100 nan\n",
      "  49/100 nan\n",
      "  50/100 nan\n",
      "  51/100 nan\n",
      "  52/100 nan\n",
      "  53/100 nan\n",
      "  54/100 nan\n",
      "  55/100 nan\n",
      "  56/100 nan\n",
      "  57/100 nan\n",
      "  58/100 nan\n",
      "  59/100 nan\n",
      "  60/100 nan\n",
      "  61/100 nan\n",
      "  62/100 nan\n",
      "  63/100 nan\n",
      "  64/100 nan\n",
      "  65/100 nan\n",
      "  66/100 nan\n",
      "  67/100 nan\n",
      "  68/100 nan\n",
      "  69/100 nan\n",
      "  70/100 nan\n",
      "  71/100 nan\n",
      "  72/100 nan\n",
      "  73/100 nan\n",
      "  74/100 nan\n",
      "  75/100 nan\n",
      "  76/100 nan\n",
      "  77/100 nan\n",
      "  78/100 nan\n",
      "  79/100 nan\n",
      "  80/100 nan\n",
      "  81/100 nan\n",
      "  82/100 nan\n",
      "  83/100 nan\n",
      "  84/100 nan\n",
      "  85/100 nan\n",
      "  86/100 nan\n",
      "  87/100 nan\n",
      "  88/100 nan\n",
      "  89/100 nan\n",
      "  90/100 nan\n",
      "  91/100 nan\n",
      "  92/100 nan\n",
      "  93/100 nan\n",
      "  94/100 nan\n",
      "  95/100 nan\n",
      "  96/100 nan\n",
      "  97/100 nan\n",
      "  98/100 nan\n",
      "  99/100 nan\n",
      " 100/100 nan\n"
     ]
    }
   ],
   "source": [
    "for echo in range(nb_e+1):\n",
    "    h = model(x)\n",
    "    cost = F.mse_loss(h,y)\n",
    "    \n",
    "    optimizer.zero_grad()\n",
    "    cost.backward()\n",
    "    optimizer.step()\n",
    "    \n",
    "    print('{:4d}/{} {:.6f}'.format(echo, nb_e, cost.item() ))"
   ]
  },
  {
   "cell_type": "code",
   "execution_count": null,
   "metadata": {},
   "outputs": [],
   "source": []
  }
 ],
 "metadata": {
  "kernelspec": {
   "display_name": "PyTorch",
   "language": "python",
   "name": "pytorch"
  },
  "language_info": {
   "codemirror_mode": {
    "name": "ipython",
    "version": 3
   },
   "file_extension": ".py",
   "mimetype": "text/x-python",
   "name": "python",
   "nbconvert_exporter": "python",
   "pygments_lexer": "ipython3",
   "version": "3.6.8"
  }
 },
 "nbformat": 4,
 "nbformat_minor": 2
}
